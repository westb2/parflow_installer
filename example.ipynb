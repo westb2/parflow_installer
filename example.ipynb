{
 "cells": [
  {
   "cell_type": "code",
   "execution_count": null,
   "metadata": {},
   "outputs": [],
   "source": [
    "import os"
   ]
  },
  {
   "cell_type": "code",
   "execution_count": null,
   "metadata": {},
   "outputs": [],
   "source": [
    "os.system(\n",
    "    f'''\n",
    "    brew update && \\\n",
    "    brew install \\\n",
    "    open-mpi\n",
    "    '''\n",
    ")"
   ]
  },
  {
   "cell_type": "code",
   "execution_count": null,
   "metadata": {},
   "outputs": [],
   "source": [
    "package_manager = \"brew\"\n",
    "package = \"open_mpi\"\n",
    "os.system(\n",
    "    f'''\n",
    "    {package_manager} update && \\\n",
    "    {package_manager} install \\\n",
    "    {package}\n",
    "    '''\n",
    ")"
   ]
  },
  {
   "cell_type": "code",
   "execution_count": null,
   "metadata": {},
   "outputs": [],
   "source": [
    "# show function refactor tool here...\n",
    "package_manager = \"brew\"\n",
    "package = \"open_mpi\"\n",
    "os.system(\n",
    "    f'''\n",
    "    {package_manager} update && \\\n",
    "    {package_manager} install \\\n",
    "    {package}\n",
    "    '''\n",
    ")"
   ]
  },
  {
   "cell_type": "code",
   "execution_count": null,
   "metadata": {},
   "outputs": [],
   "source": [
    "# You can test this on other inputs as well\n",
    "package_manager = \"brew\"\n",
    "package = \"hypre\"\n",
    "install_package(package_manager, package)\n",
    "# for things that make sense to, feel free to add an assertion"
   ]
  },
  {
   "cell_type": "code",
   "execution_count": null,
   "metadata": {},
   "outputs": [],
   "source": [
    "# and now we are on to the next function...\n",
    "# Make sure to move your current function somewhere appropriate\n",
    "packages = [\"open-mpi\", \"hypre\", \"netcdf\", \"hdf5\", \"netcdf-cxx\"]\n",
    "for package in packages:\n",
    "    install_package(package_manager, package)"
   ]
  },
  {
   "cell_type": "code",
   "execution_count": null,
   "metadata": {},
   "outputs": [],
   "source": [
    "def install_package(self, package):\n",
    "    if self.package_manager == \"brew\":\n",
    "        self.brew_install_package(package)\n",
    "\n",
    "def brew_install_package(self, package):\n",
    "    os.system(\n",
    "        f'''\n",
    "        {self.package_manager} update && \\\n",
    "        {self.package_manager} install {self.package_manager_automatic_yes_string} \\\n",
    "        {package}\n",
    "        '''\n",
    "    )\n",
    "\n",
    "def install_requirements(self):\n",
    "    packages = [\"open-mpi\", \"hypre\", \"netcdf\", \"hdf5\", \"netcdf-cxx\"]\n",
    "    for package in packages:\n",
    "        self.install_package(package)\n",
    "        self.package_dirs[package] = self.get_package_location(package)"
   ]
  }
 ],
 "metadata": {
  "language_info": {
   "name": "python"
  },
  "orig_nbformat": 4
 },
 "nbformat": 4,
 "nbformat_minor": 2
}
