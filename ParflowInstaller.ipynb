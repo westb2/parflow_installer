{
 "cells": [
  {
   "cell_type": "code",
   "execution_count": 1,
   "metadata": {},
   "outputs": [],
   "source": [
    "import os\n",
    "import subprocess\n",
    "import shutil\n"
   ]
  },
  {
   "cell_type": "code",
   "execution_count": 2,
   "metadata": {},
   "outputs": [],
   "source": [
    "def create_directory(directory):\n",
    "    if not os.path.exists(directory):\n",
    "        os.makedirs(directory)"
   ]
  },
  {
   "cell_type": "code",
   "execution_count": 3,
   "metadata": {},
   "outputs": [],
   "source": [
    "class ParflowInstaller:\n",
    "\n",
    "    def __init__(self, package_manager, installation_directory):\n",
    "        self.package_manager = package_manager\n",
    "        if package_manager == \"brew\":\n",
    "            self.package_manager_automatic_yes_string = \"\"\n",
    "        self.installation_directory = installation_directory\n",
    "        self.package_locations = {}\n",
    "\n",
    "    def install_parflow(self):\n",
    "        original_directory = os.getcwd()\n",
    "        create_directory(self.installation_directory)\n",
    "        os.chdir(self.installation_directory)\n",
    "        self.install_requirements()\n",
    "        os.chdir(original_directory)\n",
    "        self.generate_addition_to_bashrc()\n",
    "\n",
    "    def install_requirements(self):\n",
    "        packages = [\"open-mpi\", \"hypre\", \"netcdf\", \"hdf5\", \"netcdf-cxx\"]\n",
    "        for package in packages:\n",
    "            self.install_package(package)\n",
    "            self.package_locations[package] = self.get_package_location(package)\n",
    "\n",
    "    def capture_command_output(self, command):\n",
    "        tmp_file_location = \"very_temporary_file\"\n",
    "        os.system(f\"{command} > {tmp_file_location}\")\n",
    "        output = \"\"\n",
    "        with open(tmp_file_location, \"r\") as file:\n",
    "            output = file.read()\n",
    "        os.remove(\"very_temporary_file\")\n",
    "        return output\n",
    "\n",
    "    def get_homebrew_package_location(self, package):\n",
    "        return self.capture_command_output(f\"brew --prefix {package}\")\n",
    "\n",
    "    def get_package_location(self, package, package_manager=\"homebrew\"):\n",
    "        if package_manager==\"homebrew\":\n",
    "            return self.get_homebrew_package_location(package)\n",
    "\n",
    "    def install_package(self, package):\n",
    "        if package == \"hdf5\":\n",
    "            self.install_hdf5()\n",
    "        elif self.package_manager == \"brew\":\n",
    "            self.brew_install_package(package)\n",
    "\n",
    "    def brew_install_package(self, package):\n",
    "        os.system(\n",
    "            f'''\n",
    "            {self.package_manager} update && \\\n",
    "            {self.package_manager} install {self.package_manager_automatic_yes_string} \\\n",
    "            {package}\n",
    "            '''\n",
    "        )\n",
    "\n",
    "    def install_hdf5(self):\n",
    "        os.chdir(\"/Users/ben/Documents/tools/parflow_dependencies\")\n",
    "        create_directory(\"hdf5-src\")\n",
    "        os.chdir(\"hdf5-src\")\n",
    "        os.system(\"curl -L $HDF5_URL | tar --strip-components=1 -xzv && \\\n",
    "                    CC=mpicc ./configure \\\n",
    "                    --prefix=$HDF5_DIR \\\n",
    "                    --enable-parallel && \\\n",
    "                    make && make install\"\n",
    "                  )\n",
    "\n",
    "    def generate_addition_to_bashrc(self):\n",
    "        with open(\"add_me_to_your_user_profile.txt\", \"w\") as file:\n",
    "            file.write(\n",
    "                f'export HYPRE_DIR=\"{self.package_locations[\"hypre\"]}\"\\\n",
    "                export NETCDF_DIR=\"{self.package_locations[\"netcdf-cxx\"]}\"\\\n",
    "                export HDF5_DIR=\"{self.package_locations[\"hdf5\"]}\"\\\n",
    "                '\n",
    "                )\n",
    "\n",
    "\n"
   ]
  },
  {
   "cell_type": "code",
   "execution_count": 4,
   "metadata": {},
   "outputs": [
    {
     "name": "stderr",
     "output_type": "stream",
     "text": [
      "Already up-to-date.\n",
      "Warning: open-mpi 4.1.5 is already installed and up-to-date.\n",
      "To reinstall 4.1.5, run:\n",
      "  brew reinstall open-mpi\n"
     ]
    },
    {
     "name": "stdout",
     "output_type": "stream",
     "text": [
      "Already up-to-date.\n"
     ]
    },
    {
     "name": "stderr",
     "output_type": "stream",
     "text": [
      "Warning: hypre 2.29.0 is already installed and up-to-date.\n",
      "To reinstall 2.29.0, run:\n",
      "  brew reinstall hypre\n"
     ]
    },
    {
     "name": "stdout",
     "output_type": "stream",
     "text": [
      "Already up-to-date.\n"
     ]
    },
    {
     "name": "stderr",
     "output_type": "stream",
     "text": [
      "Warning: netcdf 4.9.2_1 is already installed and up-to-date.\n",
      "To reinstall 4.9.2_1, run:\n",
      "  brew reinstall netcdf\n",
      "curl: (2) no URL specified!\n",
      "curl: try 'curl --help' or 'curl --manual' for more information\n",
      "sh: ./configure: No such file or directory\n"
     ]
    },
    {
     "name": "stdout",
     "output_type": "stream",
     "text": [
      "Already up-to-date.\n"
     ]
    },
    {
     "name": "stderr",
     "output_type": "stream",
     "text": [
      "Warning: netcdf-cxx 4.3.1_1 is already installed and up-to-date.\n",
      "To reinstall 4.3.1_1, run:\n",
      "  brew reinstall netcdf-cxx\n"
     ]
    }
   ],
   "source": [
    "PACKAGE_MANAGER = \"brew\"\n",
    "package_manager_automatic_yes_string = \"\"\n",
    "USER_HOME_DIRECTORY = \"Users/ben\"\n",
    "INSTALLATION_DIRECTORY = USER_HOME_DIRECTORY + \"/parflow_dependencies\"\n",
    "parflow_installer = ParflowInstaller(package_manager=PACKAGE_MANAGER, installation_directory=INSTALLATION_DIRECTORY)\n",
    "parflow_installer.install_parflow()"
   ]
  }
 ],
 "metadata": {
  "kernelspec": {
   "display_name": "Python 3",
   "language": "python",
   "name": "python3"
  },
  "language_info": {
   "codemirror_mode": {
    "name": "ipython",
    "version": 3
   },
   "file_extension": ".py",
   "mimetype": "text/x-python",
   "name": "python",
   "nbconvert_exporter": "python",
   "pygments_lexer": "ipython3",
   "version": "3.9.6"
  },
  "orig_nbformat": 4
 },
 "nbformat": 4,
 "nbformat_minor": 2
}
